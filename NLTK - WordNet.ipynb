{
 "cells": [
  {
   "cell_type": "markdown",
   "metadata": {},
   "source": [
    "# Following Along YouTube Tutorial"
   ]
  },
  {
   "cell_type": "markdown",
   "metadata": {},
   "source": [
    "## WordNet"
   ]
  },
  {
   "cell_type": "code",
   "execution_count": 1,
   "metadata": {},
   "outputs": [],
   "source": [
    "# Import\n",
    "\n",
    "from nltk.corpus import wordnet"
   ]
  },
  {
   "cell_type": "code",
   "execution_count": 3,
   "metadata": {},
   "outputs": [],
   "source": [
    "# Syn set\n",
    "\n",
    "syns = wordnet.synsets('program')"
   ]
  },
  {
   "cell_type": "code",
   "execution_count": 4,
   "metadata": {},
   "outputs": [
    {
     "data": {
      "text/plain": [
       "[Synset('plan.n.01'),\n",
       " Synset('program.n.02'),\n",
       " Synset('broadcast.n.02'),\n",
       " Synset('platform.n.02'),\n",
       " Synset('program.n.05'),\n",
       " Synset('course_of_study.n.01'),\n",
       " Synset('program.n.07'),\n",
       " Synset('program.n.08'),\n",
       " Synset('program.v.01'),\n",
       " Synset('program.v.02')]"
      ]
     },
     "execution_count": 4,
     "metadata": {},
     "output_type": "execute_result"
    }
   ],
   "source": [
    "syns"
   ]
  },
  {
   "cell_type": "code",
   "execution_count": 8,
   "metadata": {},
   "outputs": [
    {
     "name": "stdout",
     "output_type": "stream",
     "text": [
      "Synset('plan.n.01') a series of steps to be carried out or goals to be accomplished\n"
     ]
    }
   ],
   "source": [
    "# Printing the def out of the first entry. \n",
    "\n",
    "print(syns[0],syns[0].definition())"
   ]
  },
  {
   "cell_type": "code",
   "execution_count": 10,
   "metadata": {},
   "outputs": [
    {
     "name": "stdout",
     "output_type": "stream",
     "text": [
      "Synset('plan.n.01') ['they drew up a six-step plan', 'they discussed plans for a new bond issue']\n"
     ]
    }
   ],
   "source": [
    "# Giving out a example of the word. \n",
    "\n",
    "print(syns[0],syns[0].examples())"
   ]
  },
  {
   "cell_type": "code",
   "execution_count": 16,
   "metadata": {},
   "outputs": [],
   "source": [
    "# Create some empty lists. \n",
    "\n",
    "syn_list = []\n",
    "ant_list = []\n",
    "\n",
    "# Interested in words good.\n",
    "for syn in wordnet.synsets('good'):\n",
    "    \n",
    "    # Looking at the lemmas of the words\n",
    "    for lem in syn.lemmas():\n",
    "        \n",
    "        # Add them to syn_list\n",
    "        syn_list.append(lem.name())\n",
    "        \n",
    "        # if there add to ant_list\n",
    "        if lem.antonyms():\n",
    "            ant_list.append(lem.antonyms()[0].name())"
   ]
  },
  {
   "cell_type": "code",
   "execution_count": 22,
   "metadata": {},
   "outputs": [
    {
     "name": "stdout",
     "output_type": "stream",
     "text": [
      "{'dear', 'near', 'right', 'dependable', 'in_effect', 'skilful', 'estimable', 'secure', 'unspoiled', 'thoroughly', 'unspoilt', 'adept', 'honest', 'safe', 'well', 'serious', 'upright', 'expert', 'honorable', 'practiced', 'beneficial', 'full', 'commodity', 'undecomposed', 'salutary', 'proficient', 'soundly', 'trade_good', 'skillful', 'good', 'ripe', 'effective', 'goodness', 'respectable', 'sound', 'in_force', 'just'}\n",
      "\n",
      "\n",
      "{'bad', 'badness', 'evilness', 'ill', 'evil'}\n"
     ]
    }
   ],
   "source": [
    "# Print them out. \n",
    "\n",
    "print(set(syn_list))\n",
    "print(\"\\n\")\n",
    "print(set(ant_list))"
   ]
  },
  {
   "cell_type": "code",
   "execution_count": 23,
   "metadata": {},
   "outputs": [],
   "source": [
    "# CHecking the symantic similarity of two list of words.\n",
    "\n",
    "word_1 = wordnet.synset('ship.n.01')\n",
    "word_2 = wordnet.synset('boat.n.01')"
   ]
  },
  {
   "cell_type": "code",
   "execution_count": 26,
   "metadata": {},
   "outputs": [
    {
     "name": "stdout",
     "output_type": "stream",
     "text": [
      "0.9090909090909091\n"
     ]
    }
   ],
   "source": [
    "# Check the similarity. \n",
    "\n",
    "print(word_1.wup_similarity(word_2))"
   ]
  },
  {
   "cell_type": "code",
   "execution_count": 27,
   "metadata": {},
   "outputs": [
    {
     "name": "stdout",
     "output_type": "stream",
     "text": [
      "0.34782608695652173\n"
     ]
    }
   ],
   "source": [
    "# One More example. \n",
    "\n",
    "word_3 = wordnet.synset('apple.n.01')\n",
    "word_4 = wordnet.synset('airplane.n.01')\n",
    "\n",
    "# Check the similarity. \n",
    "\n",
    "print(word_3.wup_similarity(word_4))"
   ]
  }
 ],
 "metadata": {
  "kernelspec": {
   "display_name": "Python 3",
   "language": "python",
   "name": "python3"
  },
  "language_info": {
   "codemirror_mode": {
    "name": "ipython",
    "version": 3
   },
   "file_extension": ".py",
   "mimetype": "text/x-python",
   "name": "python",
   "nbconvert_exporter": "python",
   "pygments_lexer": "ipython3",
   "version": "3.7.6"
  }
 },
 "nbformat": 4,
 "nbformat_minor": 4
}
